{
  "nbformat": 4,
  "nbformat_minor": 0,
  "metadata": {
    "colab": {
      "provenance": []
    },
    "kernelspec": {
      "name": "python3",
      "display_name": "Python 3"
    },
    "language_info": {
      "name": "python"
    }
  },
  "cells": [
    {
      "cell_type": "code",
      "execution_count": null,
      "metadata": {
        "colab": {
          "base_uri": "https://localhost:8080/",
          "height": 228
        },
        "id": "9wd58azKTZf9",
        "outputId": "5fba394a-d1f2-4d31-c472-698e73b5dbe2"
      },
      "outputs": [
        {
          "output_type": "stream",
          "name": "stdout",
          "text": [
            "10\n",
            "1.0\n"
          ]
        },
        {
          "output_type": "error",
          "ename": "ZeroDivisionError",
          "evalue": "division by zero",
          "traceback": [
            "\u001b[0;31m---------------------------------------------------------------------------\u001b[0m",
            "\u001b[0;31mZeroDivisionError\u001b[0m                         Traceback (most recent call last)",
            "\u001b[0;32m<ipython-input-1-f876a934d2b4>\u001b[0m in \u001b[0;36m<cell line: 0>\u001b[0;34m()\u001b[0m\n\u001b[1;32m      1\u001b[0m \u001b[0mprint\u001b[0m\u001b[0;34m(\u001b[0m\u001b[0;36m5\u001b[0m\u001b[0;34m+\u001b[0m\u001b[0;36m5\u001b[0m\u001b[0;34m)\u001b[0m\u001b[0;34m\u001b[0m\u001b[0;34m\u001b[0m\u001b[0m\n\u001b[1;32m      2\u001b[0m \u001b[0mprint\u001b[0m\u001b[0;34m(\u001b[0m\u001b[0;36m5\u001b[0m\u001b[0;34m/\u001b[0m\u001b[0;36m5\u001b[0m\u001b[0;34m)\u001b[0m\u001b[0;34m\u001b[0m\u001b[0;34m\u001b[0m\u001b[0m\n\u001b[0;32m----> 3\u001b[0;31m \u001b[0mprint\u001b[0m\u001b[0;34m(\u001b[0m\u001b[0;36m5\u001b[0m\u001b[0;34m/\u001b[0m\u001b[0;36m0\u001b[0m\u001b[0;34m)\u001b[0m\u001b[0;34m\u001b[0m\u001b[0;34m\u001b[0m\u001b[0m\n\u001b[0m\u001b[1;32m      4\u001b[0m \u001b[0mprint\u001b[0m\u001b[0;34m(\u001b[0m\u001b[0;36m1\u001b[0m\u001b[0;34m+\u001b[0m\u001b[0;36m1\u001b[0m\u001b[0;34m)\u001b[0m\u001b[0;34m\u001b[0m\u001b[0;34m\u001b[0m\u001b[0m\n",
            "\u001b[0;31mZeroDivisionError\u001b[0m: division by zero"
          ]
        }
      ],
      "source": [
        "#Before exception handling\n",
        "print(5+5)\n",
        "print(5/5)\n",
        "print(5/0)\n",
        "print(1+1)"
      ]
    },
    {
      "cell_type": "code",
      "source": [
        "#using exception handling\n",
        "print(5+5)\n",
        "print(5/5)\n",
        "try:\n",
        "  print(5/0)\n",
        "except:\n",
        "  print(\"Hey! you will get an error.\")\n",
        "print(1+1)"
      ],
      "metadata": {
        "colab": {
          "base_uri": "https://localhost:8080/"
        },
        "id": "y2Pywbt-WAjJ",
        "outputId": "8cef8220-8898-4623-cfcf-895afd7c4bb4"
      },
      "execution_count": null,
      "outputs": [
        {
          "output_type": "stream",
          "name": "stdout",
          "text": [
            "10\n",
            "1.0\n",
            "Hey! you will get an error.\n",
            "2\n"
          ]
        }
      ]
    },
    {
      "cell_type": "code",
      "source": [
        "#after exception handling\n",
        "numerator = float(input(\"Enter the numerator: \"))\n",
        "denominator = float(input(\"Enter the denominator: \"))\n",
        "if denominator == 0:\n",
        "    raise ZeroDivisionError(\"Error: Denominator cannot be zero.\")\n",
        "else:\n",
        "    quotient = numerator / denominator\n",
        "    print(\"Quotient:\", quotient)"
      ],
      "metadata": {
        "colab": {
          "base_uri": "https://localhost:8080/",
          "height": 245
        },
        "id": "eY54lCLUWOql",
        "outputId": "793f980c-f328-4aa8-80a8-89b268a48099"
      },
      "execution_count": null,
      "outputs": [
        {
          "name": "stdout",
          "output_type": "stream",
          "text": [
            "Enter the numerator: 20\n",
            "Enter the denominator: 0\n"
          ]
        },
        {
          "output_type": "error",
          "ename": "ZeroDivisionError",
          "evalue": "Error: Denominator cannot be zero.",
          "traceback": [
            "\u001b[0;31m---------------------------------------------------------------------------\u001b[0m",
            "\u001b[0;31mZeroDivisionError\u001b[0m                         Traceback (most recent call last)",
            "\u001b[0;32m<ipython-input-5-28c75fb6d091>\u001b[0m in \u001b[0;36m<cell line: 0>\u001b[0;34m()\u001b[0m\n\u001b[1;32m      2\u001b[0m \u001b[0mdenominator\u001b[0m \u001b[0;34m=\u001b[0m \u001b[0mfloat\u001b[0m\u001b[0;34m(\u001b[0m\u001b[0minput\u001b[0m\u001b[0;34m(\u001b[0m\u001b[0;34m\"Enter the denominator: \"\u001b[0m\u001b[0;34m)\u001b[0m\u001b[0;34m)\u001b[0m\u001b[0;34m\u001b[0m\u001b[0;34m\u001b[0m\u001b[0m\n\u001b[1;32m      3\u001b[0m \u001b[0;32mif\u001b[0m \u001b[0mdenominator\u001b[0m \u001b[0;34m==\u001b[0m \u001b[0;36m0\u001b[0m\u001b[0;34m:\u001b[0m\u001b[0;34m\u001b[0m\u001b[0;34m\u001b[0m\u001b[0m\n\u001b[0;32m----> 4\u001b[0;31m     \u001b[0;32mraise\u001b[0m \u001b[0mZeroDivisionError\u001b[0m\u001b[0;34m(\u001b[0m\u001b[0;34m\"Error: Denominator cannot be zero.\"\u001b[0m\u001b[0;34m)\u001b[0m\u001b[0;34m\u001b[0m\u001b[0;34m\u001b[0m\u001b[0m\n\u001b[0m\u001b[1;32m      5\u001b[0m \u001b[0;32melse\u001b[0m\u001b[0;34m:\u001b[0m\u001b[0;34m\u001b[0m\u001b[0;34m\u001b[0m\u001b[0m\n\u001b[1;32m      6\u001b[0m     \u001b[0mquotient\u001b[0m \u001b[0;34m=\u001b[0m \u001b[0mnumerator\u001b[0m \u001b[0;34m/\u001b[0m \u001b[0mdenominator\u001b[0m\u001b[0;34m\u001b[0m\u001b[0;34m\u001b[0m\u001b[0m\n",
            "\u001b[0;31mZeroDivisionError\u001b[0m: Error: Denominator cannot be zero."
          ]
        }
      ]
    },
    {
      "cell_type": "code",
      "source": [
        "#1. exception handling\n",
        "#2. Throwing an exception\n",
        "#3. Catching an exception"
      ],
      "metadata": {
        "id": "WIBJ5uwYWmDf"
      },
      "execution_count": null,
      "outputs": []
    },
    {
      "cell_type": "code",
      "source": [
        "#Logic gates: AND(*) OR(+) NOT(reverse)"
      ],
      "metadata": {
        "id": "UiFIrEOOZhnU"
      },
      "execution_count": null,
      "outputs": []
    },
    {
      "cell_type": "code",
      "source": [
        "try:\n",
        "  print(\"result of 10/5: \", 10/5)\n",
        "  print(\"result of 10/0: \", 10/0)\n",
        "except ZeroDivisionError:\n",
        "  print(\"Error: Division by zero\")"
      ],
      "metadata": {
        "colab": {
          "base_uri": "https://localhost:8080/"
        },
        "id": "xY16G68taNrx",
        "outputId": "a012a836-7f0e-4c0c-96ce-5018e8339218"
      },
      "execution_count": null,
      "outputs": [
        {
          "output_type": "stream",
          "name": "stdout",
          "text": [
            "result of 10/5:  2.0\n",
            "Error: Division by zero\n"
          ]
        }
      ]
    },
    {
      "cell_type": "code",
      "source": [
        "try:\n",
        "  n1=int(input(\"Enter numerator: \"))\n",
        "  n2=int(input(\"Enter denominator: \"))\n",
        "  result=(n1/n2)\n",
        "except ZeroDivisionError:\n",
        "  print(\"Error: Division by zero\")\n",
        "except ValueError:\n",
        "  print(\"Error: Invalid input\")\n",
        "except:\n",
        "  print(\"Error: Something went wrong.\")\n",
        "else:\n",
        "  print(result)"
      ],
      "metadata": {
        "colab": {
          "base_uri": "https://localhost:8080/"
        },
        "id": "91YRFnEYaxQo",
        "outputId": "f8915e81-5a80-4790-df86-679a3aab7dbf"
      },
      "execution_count": null,
      "outputs": [
        {
          "output_type": "stream",
          "name": "stdout",
          "text": [
            "Enter numerator: 10\n",
            "Enter denominator: h\n",
            "Error: Invalid input\n"
          ]
        }
      ]
    },
    {
      "cell_type": "code",
      "source": [
        "inputs=[0,1]\n",
        "print(\"X Y | X AND Y\")\n",
        "print(\"--------------\")\n",
        "for x in inputs:\n",
        "  for y in inputs:\n",
        "    print(f\"{x} {y} | {x and y}\")"
      ],
      "metadata": {
        "colab": {
          "base_uri": "https://localhost:8080/"
        },
        "id": "IMwfXtHmbtaN",
        "outputId": "cd4b1a8e-8622-4af4-ea46-6a2ace7f050d"
      },
      "execution_count": null,
      "outputs": [
        {
          "output_type": "stream",
          "name": "stdout",
          "text": [
            "X Y | X AND Y\n",
            "--------------\n",
            "0 0 | 0\n",
            "0 1 | 0\n",
            "1 0 | 0\n",
            "1 1 | 1\n"
          ]
        }
      ]
    },
    {
      "cell_type": "code",
      "source": [
        "inputs=[0,1]\n",
        "print(\"X Y | X OR Y\")\n",
        "print(\"--------------\")\n",
        "for x in inputs:\n",
        "  for y in inputs:\n",
        "    print(f\"{x} {y} | {x or y}\")"
      ],
      "metadata": {
        "colab": {
          "base_uri": "https://localhost:8080/"
        },
        "id": "TG1eft-Gcuc9",
        "outputId": "4613cbf5-0de9-49ca-dd0e-b355f1484c11"
      },
      "execution_count": null,
      "outputs": [
        {
          "output_type": "stream",
          "name": "stdout",
          "text": [
            "X Y | X OR Y\n",
            "--------------\n",
            "0 0 | 0\n",
            "0 1 | 1\n",
            "1 0 | 1\n",
            "1 1 | 1\n"
          ]
        }
      ]
    },
    {
      "cell_type": "code",
      "source": [
        "inputs=[0,1]\n",
        "print(\"X | NOT X\")\n",
        "print(\"-----------\")\n",
        "for x in inputs:\n",
        "  print(f\"{x} | {not x}\")"
      ],
      "metadata": {
        "colab": {
          "base_uri": "https://localhost:8080/"
        },
        "id": "mYLZBxl-dNKi",
        "outputId": "6dace047-a9dd-4351-da74-b6a87f7cdbe6"
      },
      "execution_count": null,
      "outputs": [
        {
          "output_type": "stream",
          "name": "stdout",
          "text": [
            "X | NOT X\n",
            "-----------\n",
            "0 | True\n",
            "1 | False\n"
          ]
        }
      ]
    },
    {
      "cell_type": "code",
      "source": [
        "print('|','X','|','Y','|','Z','|','X OR(Y AND Z)','|')\n",
        "for i in range(0,2):\n",
        "  for j in range(0,2):\n",
        "    for k in range(0,2):\n",
        "      d=j and k\n",
        "      e=i or d\n",
        "      print('|',i,'|',j,'|',k,'|',e,'            |')"
      ],
      "metadata": {
        "id": "j2x8OfycdWLy",
        "colab": {
          "base_uri": "https://localhost:8080/"
        },
        "outputId": "f8f0e712-face-4b7c-cefc-85f37b475753"
      },
      "execution_count": 1,
      "outputs": [
        {
          "output_type": "stream",
          "name": "stdout",
          "text": [
            "| X | Y | Z | X OR(Y AND Z) |\n",
            "| 0 | 0 | 0 | 0             |\n",
            "| 0 | 0 | 1 | 0             |\n",
            "| 0 | 1 | 0 | 0             |\n",
            "| 0 | 1 | 1 | 1             |\n",
            "| 1 | 0 | 0 | 1             |\n",
            "| 1 | 0 | 1 | 1             |\n",
            "| 1 | 1 | 0 | 1             |\n",
            "| 1 | 1 | 1 | 1             |\n"
          ]
        }
      ]
    },
    {
      "cell_type": "code",
      "source": [],
      "metadata": {
        "id": "fyHALHswNY_c"
      },
      "execution_count": null,
      "outputs": []
    }
  ]
}